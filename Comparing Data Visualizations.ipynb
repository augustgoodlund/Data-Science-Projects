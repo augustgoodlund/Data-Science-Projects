{
 "cells": [
  {
   "cell_type": "code",
   "execution_count": 10,
   "id": "e079e929-1944-480c-ad4b-90aa620cc1d3",
   "metadata": {},
   "outputs": [],
   "source": [
    "#importing libraries\n",
    "import numpy as np      \n",
    "import pandas as pd\n",
    "from matplotlib import pyplot as plt\n",
    "import seaborn as sns\n",
    "%matplotlib inline\n",
    "df=pd.read_csv('countries.csv')"
   ]
  },
  {
   "cell_type": "code",
   "execution_count": 20,
   "id": "0c3d1290-0e6e-4367-87e1-c17dc93c8b16",
   "metadata": {},
   "outputs": [
    {
     "data": {
      "text/plain": [
       "'plt.plot([1,2,3],[1,4,9])\\nplt.plot([2,3,4],[2,5,8])\\nplt.xlabel(\"x axis\")\\nplt.ylabel(\"y axis\")\\nplt.title(\"title\")\\nplt.legend([\"data set 1\",\"data set 2\"])\\nplt.show()\\nplt.savefig(\\'exported image\\')\\n#creates a new chart, gives it a title and axis labels, then saves the image to the folder that I\\'m working from.\\n'"
      ]
     },
     "execution_count": 20,
     "metadata": {},
     "output_type": "execute_result"
    }
   ],
   "source": [
    "\"\"\"plt.plot([1,2,3],[1,4,9])\n",
    "plt.plot([2,3,4],[2,5,8])\n",
    "plt.xlabel(\"x axis\")\n",
    "plt.ylabel(\"y axis\")\n",
    "plt.title(\"title\")\n",
    "plt.legend([\"data set 1\",\"data set 2\"])\n",
    "plt.show()\n",
    "plt.savefig('exported image')\n",
    "#creates a new chart, gives it a title and axis labels, then saves the image to the folder that I'm working from.\n",
    "\"\"\""
   ]
  },
  {
   "cell_type": "code",
   "execution_count": 29,
   "id": "81a5c1db-5748-4a0a-9d78-0541bae4e0c5",
   "metadata": {},
   "outputs": [
    {
     "data": {
      "text/plain": [
       "{'Africa', 'Americas', 'Asia', 'Europe', 'Oceania'}"
      ]
     },
     "execution_count": 29,
     "metadata": {},
     "output_type": "execute_result"
    }
   ],
   "source": [
    "set(df.continent) #shows the continents"
   ]
  },
  {
   "cell_type": "code",
   "execution_count": 36,
   "id": "5cd99742-390e-44e0-9894-ed2a2896e825",
   "metadata": {},
   "outputs": [],
   "source": [
    "data_1952=df[df.year==1952] #creates a variable that saves the data for 1952\n",
    "asia_1952=data_1952[data_1952.continent=='Asia'] #creates a variable that saves the data for 1952 in Asian countries\n",
    "africa_1952=data_1952[data_1952.continent=='Africa'] #creates a variable that saves the data for 1952 in African countries"
   ]
  },
  {
   "cell_type": "code",
   "execution_count": 39,
   "id": "e6d7a01e-d4e3-4512-a990-748d1a652185",
   "metadata": {},
   "outputs": [
    {
     "data": {
      "text/plain": [
       "33"
      ]
     },
     "execution_count": 39,
     "metadata": {},
     "output_type": "execute_result"
    }
   ],
   "source": [
    "len(set(asia_1952.country)) #tells how many Asian countries are in my list"
   ]
  },
  {
   "cell_type": "code",
   "execution_count": 40,
   "id": "43b8d651-6295-450f-8e82-9896cba97454",
   "metadata": {},
   "outputs": [
    {
     "data": {
      "text/plain": [
       "52"
      ]
     },
     "execution_count": 40,
     "metadata": {},
     "output_type": "execute_result"
    }
   ],
   "source": [
    "len(set(africa_1952.country)) #tells how many African countries are in my list"
   ]
  },
  {
   "cell_type": "code",
   "execution_count": 43,
   "id": "99280483-92d4-446f-948d-16885faab985",
   "metadata": {},
   "outputs": [
    {
     "name": "stdout",
     "output_type": "stream",
     "text": [
      "Mean Life Expectancy in Asia in 1952\n",
      "46.31439393939394\n",
      "Median Life Expectancy in Asia in 1952\n",
      "44.869\n",
      "Mean Life Expectancy in Africa in 1952\n",
      "39.13549999999999\n",
      "Median Life Expectancy in Africa in 1952\n",
      "38.833\n"
     ]
    }
   ],
   "source": [
    "print('Mean Life Expectancy in Asia in 1952')\n",
    "print(asia_1952.lifeExpectancy.mean())\n",
    "print('Median Life Expectancy in Asia in 1952')\n",
    "print(asia_1952.lifeExpectancy.median())\n",
    "print('Mean Life Expectancy in Africa in 1952')\n",
    "print(africa_1952.lifeExpectancy.mean())\n",
    "print('Median Life Expectancy in Africa in 1952')\n",
    "print(africa_1952.lifeExpectancy.median())"
   ]
  },
  {
   "cell_type": "code",
   "execution_count": 52,
   "id": "0ccaee5d-525a-461b-b729-dbf80eb8d63c",
   "metadata": {},
   "outputs": [
    {
     "data": {
      "image/png": "[encoded data removed]",
      "text/plain": [
       "<Figure size 640x480 with 2 Axes>"
      ]
     },
     "metadata": {},
     "output_type": "display_data"
    }
   ],
   "source": [
    "plt.subplot(2,1,1) #creates a histogram that can stack 2 rows on 1 column. the 3rd number is its  position in the hist\n",
    "plt.hist(asia_1952.lifeExpectancy, edgecolor='black')\n",
    "plt.ylabel(\"Asia\")\n",
    "plt.subplot(2,1,2) #creates a histogram that can stack 2 rows on 1 column. the 3rd number is its position in the hist\n",
    "plt.hist(africa_1952.lifeExpectancy, edgecolor='black')\n",
    "plt.ylabel(\"Africa\")\n",
    "plt.show()"
   ]
  },
  {
   "cell_type": "code",
   "execution_count": null,
   "id": "8b106aec-97ab-4993-9ed7-2b07831f72bc",
   "metadata": {},
   "outputs": [],
   "source": []
  }
 ],
 "metadata": {
  "kernelspec": {
   "display_name": "Python 3 (ipykernel)",
   "language": "python",
   "name": "python3"
  },
  "language_info": {
   "codemirror_mode": {
    "name": "ipython",
    "version": 3
   },
   "file_extension": ".py",
   "mimetype": "text/x-python",
   "name": "python",
   "nbconvert_exporter": "python",
   "pygments_lexer": "ipython3",
   "version": "3.11.7"
  }
 },
 "nbformat": 4,
 "nbformat_minor": 5
}
